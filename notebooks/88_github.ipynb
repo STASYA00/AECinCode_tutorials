{
 "cells": [
  {
   "cell_type": "markdown",
   "metadata": {},
   "source": [
    "## ✨Working with Github       \n",
    "\n",
    "<a href=\"https://github.com/\" target=\"_parent\"><img width=100 src=\"https://github.githubassets.com/assets/GitHub-Mark-ea2971cee799.png\" alt=\"Open Github\"/></a>"
   ]
  },
  {
   "cell_type": "markdown",
   "metadata": {},
   "source": [
    "#### Prerequisites\n",
    "\n",
    "* Github account ([create one](https://github.com/join) if you haven't already)\n",
    "* internet connection"
   ]
  },
  {
   "cell_type": "markdown",
   "metadata": {},
   "source": [
    "## Forking the course repo"
   ]
  },
  {
   "cell_type": "markdown",
   "metadata": {},
   "source": [
    "1. Go to the course [Github repo](https://github.com/STASYA00/IAAC2024_tutorials)\n",
    "1. Press on ```Fork```:\n",
    "\n",
    "    <img width=600 src=\"../.assets/git_fork.jpg\" alt=\"Fork button location\"/>\n",
    "\n",
    "1. Choose your account in the field **Owner**\n",
    "1. Optional: change repo name (e.g. ```AI in the Built Environment``` or anything you think is meaningful)\n",
    "1. Click on ```Create Fork```"
   ]
  },
  {
   "cell_type": "markdown",
   "metadata": {},
   "source": [
    "### ✔️ Your repo is ready to use"
   ]
  },
  {
   "cell_type": "markdown",
   "metadata": {},
   "source": [
    "## How to use"
   ]
  },
  {
   "cell_type": "markdown",
   "metadata": {},
   "source": [
    "1. Open any notebook from ```notebooks/```, click on <img src=\"https://colab.research.google.com/assets/colab-badge.svg\" alt=\"Open In Colab\"/>\n",
    "1. Double click on the top cell (with \"Open in Colab\" button that you see over)\n",
    "\n",
    "1. Make some changes in the notebook (e.g. write your name in one of the cells on the top)\n",
    "\n",
    "1. Save your changes to the new repo:\n",
    "\n",
    "    <img width=600 src=\"../.assets/colab_to_git.jpg\" alt=\"Save a copy to Github\"/>\n",
    "\n",
    "1. In the pop-up window choose your repository (marked red in the screenshot) and describe the changes you have made (marked green in the screenshot)\n",
    "\n",
    "    <img width=600 src=\"../.assets/github_save_options.jpg\" alt=\"Github save options\"/>\n",
    "    \n",
    "1. Put a tick in the checkbox (include a link to Colab)\n",
    "\n",
    "1. Press OK"
   ]
  },
  {
   "cell_type": "markdown",
   "metadata": {},
   "source": [
    "### ✔️ Your changes are saved"
   ]
  },
  {
   "cell_type": "markdown",
   "metadata": {},
   "source": [
    "💠 **Tips:**\n",
    "\n",
    "* Save every time you make significant changes to the repo. Think about it as an ```autoback``` file in your favorite 3D / BIM software. You don't want to loose anything.\n",
    "* Writing descriptions helps you navigate through different versions of your files - every version you save is available in your repo and you can go back as many steps as you want.\n",
    "* Explore Github - it's a great tool and can be used not only for coding 😉 You can, for example:\n",
    "    * collaborate on documents or projects and keep the files on github, synchronizing them on your computer (versioning and commits are a great plus);\n",
    "    * share files, texts, projects with wider public (or store them for private use);\n",
    "    * make a simple webpage for your project (even a one-pager can look impressive) - and no coding skills needed\n",
    "    * ..."
   ]
  },
  {
   "cell_type": "markdown",
   "metadata": {},
   "source": [
    "## 🧬 Resources"
   ]
  },
  {
   "cell_type": "markdown",
   "metadata": {},
   "source": [
    "* [Markdown Cheat Sheet](https://www.markdownguide.org/cheat-sheet/) - writing simple one-pager for your project\n",
    "* [Basic Github Vocabulary](https://unito.io/blog/guide-to-github-for-project-managers/) - basic terms used when working with Github\n",
    "* [Emoji Markdown](https://gist.github.com/rxaviers/7360908)\n",
    "* [Video in Markdown](https://medium.com/huawei-developers/how-to-add-an-embedded-video-on-github-readme-file-450f83be157a)"
   ]
  }
 ],
 "metadata": {
  "language_info": {
   "name": "python"
  }
 },
 "nbformat": 4,
 "nbformat_minor": 5
}
