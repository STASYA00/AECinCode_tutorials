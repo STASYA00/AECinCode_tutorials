{
 "cells": [
  {
   "cell_type": "markdown",
   "metadata": {},
   "source": [
    "#### OPTIONAL - Downloading kaggle data"
   ]
  },
  {
   "cell_type": "markdown",
   "metadata": {},
   "source": [
    "1. Go to your kaggle profile -> Settings -> API -> Create New Token\\\n",
    "2. Save locally `kaggle.json`\n",
    "3. In Colab go to Files\n",
    "4. Step one level up (uppermost button in the file list)\n",
    "5. Upload your newly generated `kaggle.json` to `root/.kaggle/`\n",
    "6. Run the command below to download files from kaggle and unzip them to `kaggle_data`\n"
   ]
  },
  {
   "cell_type": "code",
   "execution_count": null,
   "metadata": {
    "vscode": {
     "languageId": "plaintext"
    }
   },
   "outputs": [],
   "source": [
    "!kaggle competitions download -c building-energy-efficiency-iaac24\n",
    "!unzip building-energy-efficiency-iaac24.zip -d ./kaggle_data"
   ]
  },
  {
   "cell_type": "markdown",
   "metadata": {},
   "source": [
    "##### Screenshots"
   ]
  },
  {
   "cell_type": "markdown",
   "metadata": {},
   "source": [
    "![Colab file explorer](../.assets/colab_files.png)"
   ]
  },
  {
   "cell_type": "markdown",
   "metadata": {},
   "source": [
    "![kaggle json placement](../.assets/kaggle_json_placement.jpg)"
   ]
  },
  {
   "cell_type": "markdown",
   "metadata": {},
   "source": [
    "##### Download and upload manually:"
   ]
  },
  {
   "cell_type": "markdown",
   "metadata": {},
   "source": [
    "* On kaggle go to the [Competition page](https://www.kaggle.com/competitions/building-energy-efficiency-iaac24) -> [Data](https://www.kaggle.com/competitions/building-energy-efficiency-iaac24/data)\n",
    "* Scroll down and click on `Download All` on the right\n",
    "* Upload downloaded files to Colab\n",
    "* Unzip the files to `kaggle_data`"
   ]
  },
  {
   "cell_type": "code",
   "execution_count": null,
   "metadata": {
    "vscode": {
     "languageId": "plaintext"
    }
   },
   "outputs": [],
   "source": [
    "!unzip building-energy-efficiency-iaac24.zip -d ./kaggle_data"
   ]
  },
  {
   "cell_type": "markdown",
   "metadata": {},
   "source": [
    "##### Screenshots"
   ]
  },
  {
   "cell_type": "markdown",
   "metadata": {},
   "source": [
    "![kaggle manual download](../.assets/kaggle_manual_download.png)"
   ]
  },
  {
   "cell_type": "markdown",
   "metadata": {},
   "source": [
    "![colab manual upload](../.assets/colab_manual_upload.png)"
   ]
  }
 ],
 "metadata": {
  "language_info": {
   "name": "python"
  }
 },
 "nbformat": 4,
 "nbformat_minor": 5
}
